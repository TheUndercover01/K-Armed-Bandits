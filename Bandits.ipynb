{
 "cells": [
  {
   "cell_type": "markdown",
   "id": "3c826288-24b1-40db-a6c3-dad88157de8c",
   "metadata": {},
   "source": [
    "The king needs our help. He has participated in a RC car competetion, and he has 5 cars to choose from. This is no ordinary RC car race it is a probabilistic one where each car move a random distance based on a set normal distribution(with standard deviation 1 and different means ) at each time step. The king has 5 cars to choose from but he has no idea what distribution do those car hold. He obviously cant test all cars at once(he can only control one car at a time), as he dosent trust anyone with his cars he asks us to find a way to test them and find the best car. "
   ]
  },
  {
   "cell_type": "markdown",
   "id": "04040ead-2828-4dcb-a94f-e31e3080cba0",
   "metadata": {},
   "source": [
    "We can solve this using K-armed bandit problem where at each time step the distance travelled by the car is the reward received and our job is to maximize reward at each time step. "
   ]
  },
  {
   "cell_type": "code",
   "execution_count": 8,
   "id": "3643d889-c9cf-44b6-96a2-ca235292cd1b",
   "metadata": {},
   "outputs": [],
   "source": [
    "import pybullet as p\n",
    "import time\n",
    "import numpy as np\n",
    "import pybullet_data \n",
    "import matplotlib.pyplot as plt\n",
    "from collections import Counter"
   ]
  },
  {
   "cell_type": "markdown",
   "id": "4750f4f8-e956-4236-a1b6-932e47a15452",
   "metadata": {},
   "source": [
    "For each of the car we need a distribution by which the car moves"
   ]
  },
  {
   "cell_type": "code",
   "execution_count": 15,
   "id": "641f4aeb-0470-4263-ae4d-ece06957f9a6",
   "metadata": {},
   "outputs": [
    {
     "ename": "TypeError",
     "evalue": "plot() got an unexpected keyword argument 'x'",
     "output_type": "error",
     "traceback": [
      "\u001b[0;31m---------------------------------------------------------------------------\u001b[0m",
      "\u001b[0;31mTypeError\u001b[0m                                 Traceback (most recent call last)",
      "Cell \u001b[0;32mIn[15], line 6\u001b[0m\n\u001b[1;32m      3\u001b[0m     x\u001b[38;5;241m.\u001b[39mappend( np\u001b[38;5;241m.\u001b[39mrandom\u001b[38;5;241m.\u001b[39mnormal(\u001b[38;5;241m0\u001b[39m , \u001b[38;5;241m1\u001b[39m , \u001b[38;5;241m1\u001b[39m)[\u001b[38;5;241m0\u001b[39m])\n\u001b[1;32m      5\u001b[0m counts\u001b[38;5;241m=\u001b[39mCounter(x)\n\u001b[0;32m----> 6\u001b[0m \u001b[43mplt\u001b[49m\u001b[38;5;241;43m.\u001b[39;49m\u001b[43mplot\u001b[49m\u001b[43m(\u001b[49m\u001b[43mx\u001b[49m\u001b[38;5;241;43m=\u001b[39;49m\u001b[43mcounts\u001b[49m\u001b[38;5;241;43m.\u001b[39;49m\u001b[43mkeys\u001b[49m\u001b[43m(\u001b[49m\u001b[43m)\u001b[49m\u001b[43m,\u001b[49m\u001b[43mheight\u001b[49m\u001b[38;5;241;43m=\u001b[39;49m\u001b[43m[\u001b[49m\u001b[43ma\u001b[49m\u001b[38;5;241;43m/\u001b[39;49m\u001b[38;5;28;43msum\u001b[39;49m\u001b[43m(\u001b[49m\u001b[43mcounts\u001b[49m\u001b[38;5;241;43m.\u001b[39;49m\u001b[43mvalues\u001b[49m\u001b[43m(\u001b[49m\u001b[43m)\u001b[49m\u001b[43m)\u001b[49m\u001b[43m \u001b[49m\u001b[38;5;28;43;01mfor\u001b[39;49;00m\u001b[43m \u001b[49m\u001b[43ma\u001b[49m\u001b[43m \u001b[49m\u001b[38;5;129;43;01min\u001b[39;49;00m\u001b[43m \u001b[49m\u001b[43mcounts\u001b[49m\u001b[38;5;241;43m.\u001b[39;49m\u001b[43mvalues\u001b[49m\u001b[43m(\u001b[49m\u001b[43m)\u001b[49m\u001b[43m]\u001b[49m\u001b[43m,\u001b[49m\u001b[43mwidth\u001b[49m\u001b[38;5;241;43m=\u001b[39;49m\u001b[38;5;241;43m3e-4\u001b[39;49m\u001b[43m)\u001b[49m\n",
      "File \u001b[0;32m~/robo/env/lib/python3.8/site-packages/matplotlib/pyplot.py:2812\u001b[0m, in \u001b[0;36mplot\u001b[0;34m(scalex, scaley, data, *args, **kwargs)\u001b[0m\n\u001b[1;32m   2810\u001b[0m \u001b[38;5;129m@_copy_docstring_and_deprecators\u001b[39m(Axes\u001b[38;5;241m.\u001b[39mplot)\n\u001b[1;32m   2811\u001b[0m \u001b[38;5;28;01mdef\u001b[39;00m \u001b[38;5;21mplot\u001b[39m(\u001b[38;5;241m*\u001b[39margs, scalex\u001b[38;5;241m=\u001b[39m\u001b[38;5;28;01mTrue\u001b[39;00m, scaley\u001b[38;5;241m=\u001b[39m\u001b[38;5;28;01mTrue\u001b[39;00m, data\u001b[38;5;241m=\u001b[39m\u001b[38;5;28;01mNone\u001b[39;00m, \u001b[38;5;241m*\u001b[39m\u001b[38;5;241m*\u001b[39mkwargs):\n\u001b[0;32m-> 2812\u001b[0m     \u001b[38;5;28;01mreturn\u001b[39;00m \u001b[43mgca\u001b[49m\u001b[43m(\u001b[49m\u001b[43m)\u001b[49m\u001b[38;5;241;43m.\u001b[39;49m\u001b[43mplot\u001b[49m\u001b[43m(\u001b[49m\n\u001b[1;32m   2813\u001b[0m \u001b[43m        \u001b[49m\u001b[38;5;241;43m*\u001b[39;49m\u001b[43margs\u001b[49m\u001b[43m,\u001b[49m\u001b[43m \u001b[49m\u001b[43mscalex\u001b[49m\u001b[38;5;241;43m=\u001b[39;49m\u001b[43mscalex\u001b[49m\u001b[43m,\u001b[49m\u001b[43m \u001b[49m\u001b[43mscaley\u001b[49m\u001b[38;5;241;43m=\u001b[39;49m\u001b[43mscaley\u001b[49m\u001b[43m,\u001b[49m\n\u001b[1;32m   2814\u001b[0m \u001b[43m        \u001b[49m\u001b[38;5;241;43m*\u001b[39;49m\u001b[38;5;241;43m*\u001b[39;49m\u001b[43m(\u001b[49m\u001b[43m{\u001b[49m\u001b[38;5;124;43m\"\u001b[39;49m\u001b[38;5;124;43mdata\u001b[39;49m\u001b[38;5;124;43m\"\u001b[39;49m\u001b[43m:\u001b[49m\u001b[43m \u001b[49m\u001b[43mdata\u001b[49m\u001b[43m}\u001b[49m\u001b[43m \u001b[49m\u001b[38;5;28;43;01mif\u001b[39;49;00m\u001b[43m \u001b[49m\u001b[43mdata\u001b[49m\u001b[43m \u001b[49m\u001b[38;5;129;43;01mis\u001b[39;49;00m\u001b[43m \u001b[49m\u001b[38;5;129;43;01mnot\u001b[39;49;00m\u001b[43m \u001b[49m\u001b[38;5;28;43;01mNone\u001b[39;49;00m\u001b[43m \u001b[49m\u001b[38;5;28;43;01melse\u001b[39;49;00m\u001b[43m \u001b[49m\u001b[43m{\u001b[49m\u001b[43m}\u001b[49m\u001b[43m)\u001b[49m\u001b[43m,\u001b[49m\u001b[43m \u001b[49m\u001b[38;5;241;43m*\u001b[39;49m\u001b[38;5;241;43m*\u001b[39;49m\u001b[43mkwargs\u001b[49m\u001b[43m)\u001b[49m\n",
      "File \u001b[0;32m~/robo/env/lib/python3.8/site-packages/matplotlib/axes/_axes.py:1688\u001b[0m, in \u001b[0;36mAxes.plot\u001b[0;34m(self, scalex, scaley, data, *args, **kwargs)\u001b[0m\n\u001b[1;32m   1445\u001b[0m \u001b[38;5;250m\u001b[39m\u001b[38;5;124;03m\"\"\"\u001b[39;00m\n\u001b[1;32m   1446\u001b[0m \u001b[38;5;124;03mPlot y versus x as lines and/or markers.\u001b[39;00m\n\u001b[1;32m   1447\u001b[0m \n\u001b[0;32m   (...)\u001b[0m\n\u001b[1;32m   1685\u001b[0m \u001b[38;5;124;03m(``'green'``) or hex strings (``'#008000'``).\u001b[39;00m\n\u001b[1;32m   1686\u001b[0m \u001b[38;5;124;03m\"\"\"\u001b[39;00m\n\u001b[1;32m   1687\u001b[0m kwargs \u001b[38;5;241m=\u001b[39m cbook\u001b[38;5;241m.\u001b[39mnormalize_kwargs(kwargs, mlines\u001b[38;5;241m.\u001b[39mLine2D)\n\u001b[0;32m-> 1688\u001b[0m lines \u001b[38;5;241m=\u001b[39m [\u001b[38;5;241m*\u001b[39m\u001b[38;5;28mself\u001b[39m\u001b[38;5;241m.\u001b[39m_get_lines(\u001b[38;5;241m*\u001b[39margs, data\u001b[38;5;241m=\u001b[39mdata, \u001b[38;5;241m*\u001b[39m\u001b[38;5;241m*\u001b[39mkwargs)]\n\u001b[1;32m   1689\u001b[0m \u001b[38;5;28;01mfor\u001b[39;00m line \u001b[38;5;129;01min\u001b[39;00m lines:\n\u001b[1;32m   1690\u001b[0m     \u001b[38;5;28mself\u001b[39m\u001b[38;5;241m.\u001b[39madd_line(line)\n",
      "File \u001b[0;32m~/robo/env/lib/python3.8/site-packages/matplotlib/axes/_base.py:246\u001b[0m, in \u001b[0;36m_process_plot_var_args.__call__\u001b[0;34m(self, data, *args, **kwargs)\u001b[0m\n\u001b[1;32m    244\u001b[0m \u001b[38;5;28;01mfor\u001b[39;00m pos_only \u001b[38;5;129;01min\u001b[39;00m \u001b[38;5;124m\"\u001b[39m\u001b[38;5;124mxy\u001b[39m\u001b[38;5;124m\"\u001b[39m:\n\u001b[1;32m    245\u001b[0m     \u001b[38;5;28;01mif\u001b[39;00m pos_only \u001b[38;5;129;01min\u001b[39;00m kwargs:\n\u001b[0;32m--> 246\u001b[0m         \u001b[38;5;28;01mraise\u001b[39;00m _api\u001b[38;5;241m.\u001b[39mkwarg_error(\u001b[38;5;28mself\u001b[39m\u001b[38;5;241m.\u001b[39mcommand, pos_only)\n\u001b[1;32m    248\u001b[0m \u001b[38;5;28;01mif\u001b[39;00m \u001b[38;5;129;01mnot\u001b[39;00m args:\n\u001b[1;32m    249\u001b[0m     \u001b[38;5;28;01mreturn\u001b[39;00m\n",
      "\u001b[0;31mTypeError\u001b[0m: plot() got an unexpected keyword argument 'x'"
     ]
    },
    {
     "data": {
      "image/png": "[encoded data removed]",
      "text/plain": [
       "<Figure size 640x480 with 1 Axes>"
      ]
     },
     "metadata": {},
     "output_type": "display_data"
    }
   ],
   "source": [
    "x = []\n",
    "for i in range(20000):\n",
    "    x.append( np.random.normal(0 , 1 , 1)[0])\n",
    "\n",
    "counts=Counter(x)"
   ]
  },
  {
   "cell_type": "code",
   "execution_count": 2,
   "id": "68fc3200-5731-42cd-b80d-7bf7927a1b2b",
   "metadata": {},
   "outputs": [
    {
     "data": {
      "text/plain": [
       "array([1.19499145, 0.88347029, 0.87667482, 0.67979829, 1.20346465])"
      ]
     },
     "execution_count": 2,
     "metadata": {},
     "output_type": "execute_result"
    }
   ],
   "source": [
    "cars = 5\n",
    "means = np.random.normal(1 , 0.4 , cars)\n",
    "means # All have standard deviarion 1"
   ]
  },
  {
   "cell_type": "markdown",
   "id": "308591ff-3d78-4122-94b2-1fab5a9c5657",
   "metadata": {},
   "source": [
    "We will be employing Optimistic initial values and sample avereging technique "
   ]
  },
  {
   "cell_type": "markdown",
   "id": "8c9534fd-2fd7-431b-9755-66c0da679c8c",
   "metadata": {},
   "source": [
    "We will be making a 2 distribution to make the problem challenging \n",
    "\n",
    "A random force will be put to based on another normal distribution which will be also a normal distribution."
   ]
  },
  {
   "cell_type": "code",
   "execution_count": 17,
   "id": "bcad1103-742d-4920-8455-066782708f7c",
   "metadata": {},
   "outputs": [
    {
     "data": {
      "text/plain": [
       "array([5.57085431, 4.66882818, 6.06868145, 6.28731543, 3.91678496])"
      ]
     },
     "execution_count": 17,
     "metadata": {},
     "output_type": "execute_result"
    }
   ],
   "source": [
    "cars = 5\n",
    "means_force = np.random.normal(5 , 1 , cars)\n",
    "means_force# All have standard deviarion 1"
   ]
  },
  {
   "cell_type": "code",
   "execution_count": 1,
   "id": "2c3b46ef-26fc-4125-9257-5102e76402b4",
   "metadata": {},
   "outputs": [],
   "source": [
    "Q = [5 , 5 , 5 , 5 , 5]\n",
    "N = [0 , 0 , 0 , 0 , 0]"
   ]
  },
  {
   "cell_type": "code",
   "execution_count": null,
   "id": "f850d4f5-9c6e-449d-b4f5-6f27ca1a6523",
   "metadata": {},
   "outputs": [
    {
     "name": "stderr",
     "output_type": "stream",
     "text": [
      "pybullet build time: Dec 17 2023 23:51:54\n"
     ]
    },
    {
     "name": "stdout",
     "output_type": "stream",
     "text": [
      "(0, b'base_link_joint', 4, -1, -1, 0, 0.0, 0.0, 0.0, -1.0, 0.0, 0.0, b'chassis', (0.0, 0.0, 0.0), (0.0, 0.0, 0.05), (0.0, 0.0, 0.0, 1.0), -1)\n",
      "(1, b'chassis_inertia_joint', 4, -1, -1, 0, 0.0, 0.0, 0.0, -1.0, 0.0, 0.0, b'chassis_inertia', (0.0, 0.0, 0.0), (0.0, 0.0, 0.0), (0.0, 0.0, 0.0, 1.0), 0)\n",
      "(2, b'left_rear_wheel_joint', 0, 7, 6, 1, 0.0, 0.0, 0.0, -1.0, 10.0, 100.0, b'left_rear_wheel', (0.0, 0.0, -1.0), (0.0, 0.1, 0.0), (-0.7071080798594737, 0.0, 0.0, 0.7071054825112363), 0)\n",
      "(3, b'right_rear_wheel_joint', 0, 8, 7, 1, 0.0, 0.0, 0.0, -1.0, 10.0, 100.0, b'right_rear_wheel', (0.0, 0.0, -1.0), (0.0, -0.1, 0.0), (-0.7071080798594737, 0.0, 0.0, 0.7071054825112363), 0)\n",
      "(4, b'left_steering_hinge_joint', 0, 9, 8, 1, 0.0, 0.0, -1.0, 1.0, 10.0, 100.0, b'left_steering_hinge', (-1.0, 0.0, 0.0), (0.325, 0.1, 0.0), (0.0, -0.7071080798594737, 0.0, 0.7071054825112363), 0)\n",
      "(5, b'left_front_wheel_joint', 0, 10, 9, 1, 0.0, 0.0, 0.0, -1.0, 10.0, 100.0, b'left_front_wheel', (0.0, 0.0, -1.0), (0.0, 0.0, 0.0), (-0.7071080798594737, 0.0, 0.0, 0.7071054825112363), 4)\n",
      "(6, b'right_steering_hinge_joint', 0, 11, 10, 1, 0.0, 0.0, -1.0, 1.0, 10.0, 100.0, b'right_steering_hinge', (-1.0, 0.0, 0.0), (0.325, -0.1, 0.0), (0.0, -0.7071080798594737, 0.0, 0.7071054825112363), 0)\n",
      "(7, b'right_front_wheel_joint', 0, 12, 11, 1, 0.0, 0.0, 0.0, -1.0, 10.0, 100.0, b'right_front_wheel', (0.0, 0.0, -1.0), (0.0, 0.0, 0.0), (-0.7071080798594737, 0.0, 0.0, 0.7071054825112363), 6)\n",
      "(8, b'hokuyo_joint', 4, -1, -1, 0, 0.0, 0.0, 0.0, -1.0, 0.0, 0.0, b'laser', (0.0, 0.0, 0.0), (0.265, 0.0, 0.075), (0.0, 0.0, 0.0, 1.0), 0)\n",
      "(9, b'zed_camera_joint', 4, -1, -1, 0, 0.0, 0.0, 0.0, -1.0, 0.0, 0.0, b'zed_camera_link', (0.0, 0.0, 0.0), (0.39, 0.0, 0.04), (0.0, 0.0, 0.0, 1.0), 0)\n",
      "(10, b'zed_camera_left_joint', 4, -1, -1, 0, 0.0, 0.0, 0.0, -1.0, 0.0, 0.0, b'camera_link', (0.0, 0.0, 0.0), (0.0, 0.06, 0.0), (0.0, 0.0, 0.0, 1.0), 9)\n",
      "(11, b'zed_camera_right_joint', 4, -1, -1, 0, 0.0, 0.0, 0.0, -1.0, 0.0, 0.0, b'zed_camera_right_link', (0.0, 0.0, 0.0), (0.0, -0.06, 0.0), (0.0, 0.0, 0.0, 1.0), 9)\n"
     ]
    }
   ],
   "source": [
    "import pybullet as p\n",
    "import time\n",
    "import numpy as np\n",
    "import pybullet_data\n",
    "\n",
    "\n",
    "physicsClient = p.connect(p.GUI)\n",
    "p.setAdditionalSearchPath(pybullet_data.getDataPath())\n",
    "p.setGravity(0,0,-10)#or p.DIRECT for non-graphical version p.setAdditionalSearchPath(pybullet_data.getDataPath()) #optionally p.setGravity(0,0,-10)\n",
    "planeId = p.loadURDF(\"plane.urdf\")\n",
    "#car1\n",
    "startPos1 = [0,2,0]\n",
    "startOrientation1 = p.getQuaternionFromEuler([0,0,0])\n",
    "racecar0 = p.loadURDF(\"/racecar/racecar.urdf\",startPos1, startOrientation1) #set the center of mass frame (loadURDF sets base link frame) \n",
    "p.resetBasePositionAndOrientation(racecar1, startPos1, startOrientation1)\n",
    "\n",
    "#car2\n",
    "startPos2 = [0,1,0]\n",
    "startOrientation2 = p.getQuaternionFromEuler([0,0,0])\n",
    "racecar1 = p.loadURDF(\"/racecar/racecar.urdf\",startPos2, startOrientation2) #set the center of mass frame (loadURDF sets base link frame) \n",
    "p.resetBasePositionAndOrientation(racecar2, startPos2, startOrientation2)\n",
    "\n",
    "\n",
    "startPos3 = [0,0,0]\n",
    "startOrientation3 = p.getQuaternionFromEuler([0,0,0])\n",
    "racecar2 = p.loadURDF(\"/racecar/racecar.urdf\",startPos3, startOrientation3) #set the center of mass frame (loadURDF sets base link frame) \n",
    "p.resetBasePositionAndOrientation(racecar3, startPos3, startOrientation3)\n",
    "\n",
    "\n",
    "\n",
    "startPos4 = [0,-1,0]\n",
    "startOrientation4 = p.getQuaternionFromEuler([0,0,0])\n",
    "racecar3 = p.loadURDF(\"/racecar/racecar.urdf\",startPos4, startOrientation4) #set the center of mass frame (loadURDF sets base link frame) \n",
    "p.resetBasePositionAndOrientation(racecar4, startPos4, startOrientation4)\n",
    "\n",
    "\n",
    "startPos5 = [0,-2,0]\n",
    "startOrientation5 = p.getQuaternionFromEuler([0,0,0])\n",
    "racecar4 = p.loadURDF(\"/racecar/racecar.urdf\",startPos5, startOrientation5) #set the center of mass frame (loadURDF sets base link frame) \n",
    "p.resetBasePositionAndOrientation(racecar5, startPos5, startOrientation5)\n",
    "targetVel = 10  #rad/s\n",
    "maxForce = 100  #Newton\n",
    "\n",
    "numJoints = p.getNumJoints(racecar4)\n",
    "for joint in range(numJoints):\n",
    "  print(p.getJointInfo(racecar4, joint))\n",
    "\n",
    "p.setRealTimeSimulation(0)\n",
    "\n",
    "\n",
    "\n",
    "for i in range(10000):\n",
    "    if i < 5 :# We first explore all the possible options at least once \n",
    "        if i==0:\n",
    "            reward_0 = np.random.normal(means[0] , 1 , 1)[0] #get reward from car 0\n",
    "            Q[0] = Q[0] + reward_0\n",
    "            N[0]+=1\n",
    "\n",
    "        elif i==1:\n",
    "            reward_1 = np.random.normal(means[1] , 1 , 1)[0]\n",
    "            Q[1] = Q[1] + reward_1#get reward from car 1\n",
    "            N[1]+=1\n",
    "\n",
    "        elif i==2:\n",
    "            reward_2 = np.random.normal(means[2] , 1 , 1)[0]\n",
    "            Q[2] = Q[2] + reward_2#get reward from car 2\n",
    "            N[2]+=1\n",
    "\n",
    "        elif i==3:\n",
    "            reward_3 = np.random.normal(means[3] , 1 , 1)[0]\n",
    "            Q[3] = Q[3] + reward_3#get reward from car 3\n",
    "            N[3]+=1\n",
    "\n",
    "        elif i==4:\n",
    "            reward_4 = np.random.normal(means[4] , 1 , 1)[0]#get reward from car 4\n",
    "            Q[4] = Q[4] + reward_4\n",
    "            N[4]+=1\n",
    "\n",
    "    else:\n",
    "        #Now we need to choose the best each time \n",
    "        \n",
    "    for joint in [2,3,5,7]:\n",
    "        gemPos, gemOrn = p.getBasePositionAndOrientation(racecar5)\n",
    "        \n",
    "        p.setJointMotorControl2(racecar5, joint, p.VELOCITY_CONTROL,targetVelocity =  3, force = 50)\n",
    "        p.applyExternalForce(racecar5,joint , [10,10,0] , gemPos , p.WORLD_FRAME)\n",
    "    p.stepSimulation()\n",
    "# for step in range(4000):\n",
    "#     p.stepSimulation()\n",
    "\n",
    "\n",
    "# # for i in range (10000):\n",
    "    \n",
    "    \n",
    "# # cubePos, cubeOrn = p.getBasePositionAndOrientation(boxId) \n",
    "# print(cubePos,cubeOrn)\n",
    "p.disconnect()"
   ]
  },
  {
   "cell_type": "code",
   "execution_count": null,
   "id": "92e1982f-652d-49a9-a4b6-db2ca14320af",
   "metadata": {},
   "outputs": [],
   "source": []
  },
  {
   "cell_type": "code",
   "execution_count": null,
   "id": "23f04d1e-94c1-467f-a79c-93f8844ea446",
   "metadata": {},
   "outputs": [],
   "source": []
  },
  {
   "cell_type": "code",
   "execution_count": null,
   "id": "c3883c95-72f6-431b-b8e2-2915564b44b9",
   "metadata": {},
   "outputs": [],
   "source": []
  }
 ],
 "metadata": {
  "kernelspec": {
   "display_name": "Python 3 (ipykernel)",
   "language": "python",
   "name": "python3"
  },
  "language_info": {
   "codemirror_mode": {
    "name": "ipython",
    "version": 3
   },
   "file_extension": ".py",
   "mimetype": "text/x-python",
   "name": "python",
   "nbconvert_exporter": "python",
   "pygments_lexer": "ipython3",
   "version": "3.8.18"
  }
 },
 "nbformat": 4,
 "nbformat_minor": 5
}

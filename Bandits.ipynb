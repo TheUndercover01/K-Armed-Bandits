{
 "cells": [
  {
   "cell_type": "markdown",
   "id": "3c826288-24b1-40db-a6c3-dad88157de8c",
   "metadata": {},
   "source": [
    "The king needs our help. He has participated in a RC car competetion, and he has 5 cars to choose from. This is no ordinary RC car race it is a probabilistic one where each car move a random distance based on a set normal distribution(with standard deviation 1 and different means ) at each time step. The king has 5 cars to choose from but he has no idea what distribution do those car hold. He obviously cant test all cars at once(he can only control one car at a time), as he dosent trust anyone with his cars he asks us to find a way to test them and find the best car. "
   ]
  },
  {
   "cell_type": "markdown",
   "id": "04040ead-2828-4dcb-a94f-e31e3080cba0",
   "metadata": {},
   "source": [
    "We can solve this using K-armed bandit problem where at each time step the distance travelled by the car is the reward received and our job is to maximize reward at each time step. "
   ]
  },
  {
   "cell_type": "code",
   "execution_count": 1,
   "id": "3643d889-c9cf-44b6-96a2-ca235292cd1b",
   "metadata": {},
   "outputs": [
    {
     "name": "stderr",
     "output_type": "stream",
     "text": [
      "pybullet build time: Dec 17 2023 23:51:54\n"
     ]
    }
   ],
   "source": [
    "import pybullet as p\n",
    "import time\n",
    "import numpy as np\n",
    "import pybullet_data "
   ]
  },
  {
   "cell_type": "markdown",
   "id": "4750f4f8-e956-4236-a1b6-932e47a15452",
   "metadata": {},
   "source": [
    "For each of the car we need a distribution by which the car moves"
   ]
  },
  {
   "cell_type": "code",
   "execution_count": 2,
   "id": "68fc3200-5731-42cd-b80d-7bf7927a1b2b",
   "metadata": {},
   "outputs": [
    {
     "data": {
      "text/plain": [
       "array([0.82473859, 0.76683313, 1.10560025, 1.62745793, 0.80164255])"
      ]
     },
     "execution_count": 2,
     "metadata": {},
     "output_type": "execute_result"
    }
   ],
   "source": [
    "cars = 5\n",
    "means = np.random.normal(1 , 0.4 , cars)\n",
    "means # All have standard deviarion 1"
   ]
  },
  {
   "cell_type": "markdown",
   "id": "308591ff-3d78-4122-94b2-1fab5a9c5657",
   "metadata": {},
   "source": [
    "We will be employing Optimistic initial values and sample avereging technique "
   ]
  },
  {
   "cell_type": "code",
   "execution_count": 3,
   "id": "2c3b46ef-26fc-4125-9257-5102e76402b4",
   "metadata": {},
   "outputs": [],
   "source": [
    "Q = [5 , 5 , 5 , 5 , 5]\n",
    "N = [0 , 0 , 0 , 0 , 0]\n"
   ]
  },
  {
   "cell_type": "code",
   "execution_count": null,
   "id": "f850d4f5-9c6e-449d-b4f5-6f27ca1a6523",
   "metadata": {},
   "outputs": [
    {
     "name": "stdout",
     "output_type": "stream",
     "text": [
      "(0, b'base_link_joint', 4, -1, -1, 0, 0.0, 0.0, 0.0, -1.0, 0.0, 0.0, b'chassis', (0.0, 0.0, 0.0), (0.0, 0.0, 0.05), (0.0, 0.0, 0.0, 1.0), -1)\n",
      "(1, b'chassis_inertia_joint', 4, -1, -1, 0, 0.0, 0.0, 0.0, -1.0, 0.0, 0.0, b'chassis_inertia', (0.0, 0.0, 0.0), (0.0, 0.0, 0.0), (0.0, 0.0, 0.0, 1.0), 0)\n",
      "(2, b'left_rear_wheel_joint', 0, 7, 6, 1, 0.0, 0.0, 0.0, -1.0, 10.0, 100.0, b'left_rear_wheel', (0.0, 0.0, -1.0), (0.0, 0.1, 0.0), (-0.7071080798594737, 0.0, 0.0, 0.7071054825112363), 0)\n",
      "(3, b'right_rear_wheel_joint', 0, 8, 7, 1, 0.0, 0.0, 0.0, -1.0, 10.0, 100.0, b'right_rear_wheel', (0.0, 0.0, -1.0), (0.0, -0.1, 0.0), (-0.7071080798594737, 0.0, 0.0, 0.7071054825112363), 0)\n",
      "(4, b'left_steering_hinge_joint', 0, 9, 8, 1, 0.0, 0.0, -1.0, 1.0, 10.0, 100.0, b'left_steering_hinge', (-1.0, 0.0, 0.0), (0.325, 0.1, 0.0), (0.0, -0.7071080798594737, 0.0, 0.7071054825112363), 0)\n",
      "(5, b'left_front_wheel_joint', 0, 10, 9, 1, 0.0, 0.0, 0.0, -1.0, 10.0, 100.0, b'left_front_wheel', (0.0, 0.0, -1.0), (0.0, 0.0, 0.0), (-0.7071080798594737, 0.0, 0.0, 0.7071054825112363), 4)\n",
      "(6, b'right_steering_hinge_joint', 0, 11, 10, 1, 0.0, 0.0, -1.0, 1.0, 10.0, 100.0, b'right_steering_hinge', (-1.0, 0.0, 0.0), (0.325, -0.1, 0.0), (0.0, -0.7071080798594737, 0.0, 0.7071054825112363), 0)\n",
      "(7, b'right_front_wheel_joint', 0, 12, 11, 1, 0.0, 0.0, 0.0, -1.0, 10.0, 100.0, b'right_front_wheel', (0.0, 0.0, -1.0), (0.0, 0.0, 0.0), (-0.7071080798594737, 0.0, 0.0, 0.7071054825112363), 6)\n",
      "(8, b'hokuyo_joint', 4, -1, -1, 0, 0.0, 0.0, 0.0, -1.0, 0.0, 0.0, b'laser', (0.0, 0.0, 0.0), (0.265, 0.0, 0.075), (0.0, 0.0, 0.0, 1.0), 0)\n",
      "(9, b'zed_camera_joint', 4, -1, -1, 0, 0.0, 0.0, 0.0, -1.0, 0.0, 0.0, b'zed_camera_link', (0.0, 0.0, 0.0), (0.39, 0.0, 0.04), (0.0, 0.0, 0.0, 1.0), 0)\n",
      "(10, b'zed_camera_left_joint', 4, -1, -1, 0, 0.0, 0.0, 0.0, -1.0, 0.0, 0.0, b'camera_link', (0.0, 0.0, 0.0), (0.0, 0.06, 0.0), (0.0, 0.0, 0.0, 1.0), 9)\n",
      "(11, b'zed_camera_right_joint', 4, -1, -1, 0, 0.0, 0.0, 0.0, -1.0, 0.0, 0.0, b'zed_camera_right_link', (0.0, 0.0, 0.0), (0.0, -0.06, 0.0), (0.0, 0.0, 0.0, 1.0), 9)\n"
     ]
    }
   ],
   "source": [
    "\n",
    "physicsClient = p.connect(p.GUI)\n",
    "p.setAdditionalSearchPath(pybullet_data.getDataPath())\n",
    "p.setGravity(0,0,-10)#or p.DIRECT for non-graphical version p.setAdditionalSearchPath(pybullet_data.getDataPath()) #optionally p.setGravity(0,0,-10)\n",
    "planeId = p.loadURDF(\"plane.urdf\")\n",
    "\n",
    "#As there are 5 cars we need to define there position seperately\n",
    "#car1\n",
    "startPos1 = [0,2,0]\n",
    "startOrientation1 = p.getQuaternionFromEuler([0,0,0])\n",
    "racecar1 = p.loadURDF(\"/racecar/racecar.urdf\",startPos1, startOrientation1) #set the center of mass frame (loadURDF sets base link frame) \n",
    "p.resetBasePositionAndOrientation(racecar1, startPos1, startOrientation1)\n",
    "\n",
    "#car2\n",
    "startPos2 = [0,1,0]\n",
    "startOrientation2 = p.getQuaternionFromEuler([0,0,0])\n",
    "racecar2 = p.loadURDF(\"/racecar/racecar.urdf\",startPos2, startOrientation2) #set the center of mass frame (loadURDF sets base link frame) \n",
    "p.resetBasePositionAndOrientation(racecar2, startPos2, startOrientation2)\n",
    "\n",
    "\n",
    "startPos3 = [0,0,0]\n",
    "startOrientation3 = p.getQuaternionFromEuler([0,0,0])\n",
    "racecar3 = p.loadURDF(\"/racecar/racecar.urdf\",startPos3, startOrientation3) #set the center of mass frame (loadURDF sets base link frame) \n",
    "p.resetBasePositionAndOrientation(racecar3, startPos3, startOrientation3)\n",
    "\n",
    "\n",
    "\n",
    "startPos4 = [0,-1,0]\n",
    "startOrientation4 = p.getQuaternionFromEuler([0,0,0])\n",
    "racecar4 = p.loadURDF(\"/racecar/racecar.urdf\",startPos4, startOrientation4) #set the center of mass frame (loadURDF sets base link frame) \n",
    "p.resetBasePositionAndOrientation(racecar4, startPos4, startOrientation4)\n",
    "\n",
    "\n",
    "startPos5 = [0,-2,0]\n",
    "startOrientation5 = p.getQuaternionFromEuler([0,0,0])\n",
    "racecar5 = p.loadURDF(\"/racecar/racecar.urdf\",startPos5, startOrientation5) #set the center of mass frame (loadURDF sets base link frame) \n",
    "p.resetBasePositionAndOrientation(racecar5, startPos5, startOrientation5)\n",
    "targetVel = 10  #rad/s\n",
    "maxForce = 100  #Newton\n",
    "\n",
    "numJoints = p.getNumJoints(racecar5)\n",
    "for joint in range(numJoints):\n",
    "  print(p.getJointInfo(racecar5, joint))\n",
    "\n",
    "for i in range(4000):\n",
    "    for joint in range(2, 6):\n",
    "        p.setJointMotorControl2(racecar5, joint, p.POSITION_CONTROL,targetPosition =  20, force = 100)\n",
    "    p.stepSimulation()\n",
    "# for step in range(4000):\n",
    "#     p.stepSimulation()\n",
    "\n",
    "\n",
    "# # for i in range (10000):\n",
    "    \n",
    "    \n",
    "# # cubePos, cubeOrn = p.getBasePositionAndOrientation(boxId) \n",
    "# print(cubePos,cubeOrn)\n",
    "p.disconnect()"
   ]
  },
  {
   "cell_type": "code",
   "execution_count": null,
   "id": "92e1982f-652d-49a9-a4b6-db2ca14320af",
   "metadata": {},
   "outputs": [],
   "source": []
  },
  {
   "cell_type": "code",
   "execution_count": null,
   "id": "23f04d1e-94c1-467f-a79c-93f8844ea446",
   "metadata": {},
   "outputs": [],
   "source": []
  },
  {
   "cell_type": "code",
   "execution_count": null,
   "id": "c3883c95-72f6-431b-b8e2-2915564b44b9",
   "metadata": {},
   "outputs": [],
   "source": []
  }
 ],
 "metadata": {
  "kernelspec": {
   "display_name": "Python 3 (ipykernel)",
   "language": "python",
   "name": "python3"
  },
  "language_info": {
   "codemirror_mode": {
    "name": "ipython",
    "version": 3
   },
   "file_extension": ".py",
   "mimetype": "text/x-python",
   "name": "python",
   "nbconvert_exporter": "python",
   "pygments_lexer": "ipython3",
   "version": "3.8.18"
  }
 },
 "nbformat": 4,
 "nbformat_minor": 5
}
